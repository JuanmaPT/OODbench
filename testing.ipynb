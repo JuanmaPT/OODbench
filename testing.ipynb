{
 "cells": [
  {
   "cell_type": "code",
   "execution_count": 2,
   "metadata": {},
   "outputs": [
    {
     "name": "stdout",
     "output_type": "stream",
     "text": [
      "Original Array: [1, 2, 2, 3, 4, 1, 5, 2, 6, 4, 899]\n",
      "Mapped Array: [0, 1, 1, 2, 3, 0, 4, 1, 5, 3, 6]\n",
      "Number of Different Values: 7\n"
     ]
    }
   ],
   "source": [
    "def count_and_map_values(arr):\n",
    "    # Step 1: Count the number of different values\n",
    "    unique_values = set(arr)\n",
    "    NdifferentValues = len(unique_values)\n",
    "\n",
    "    # Step 2: Map the values to the new range\n",
    "    value_to_index = {value: index for index, value in enumerate(unique_values)}\n",
    "    mapped_array = [value_to_index[value] for value in arr]\n",
    "\n",
    "    return mapped_array, NdifferentValues\n",
    "\n",
    "# Example usage:\n",
    "original_array = [1, 2, 2, 3, 4, 1, 5, 2, 6, 4, 899]\n",
    "mapped_array, NdifferentValues = count_and_map_values(original_array)\n",
    "\n",
    "print(\"Original Array:\", original_array)\n",
    "print(\"Mapped Array:\", mapped_array)\n",
    "print(\"Number of Different Values:\", NdifferentValues)\n"
   ]
  },
  {
   "cell_type": "code",
   "execution_count": 3,
   "metadata": {},
   "outputs": [
    {
     "name": "stdout",
     "output_type": "stream",
     "text": [
      "120\n"
     ]
    }
   ],
   "source": [
    "\n",
    "\n",
    "print(len(combinations_list))"
   ]
  }
 ],
 "metadata": {
  "kernelspec": {
   "display_name": "Python 3",
   "language": "python",
   "name": "python3"
  },
  "language_info": {
   "codemirror_mode": {
    "name": "ipython",
    "version": 3
   },
   "file_extension": ".py",
   "mimetype": "text/x-python",
   "name": "python",
   "nbconvert_exporter": "python",
   "pygments_lexer": "ipython3",
   "version": "3.11.6"
  }
 },
 "nbformat": 4,
 "nbformat_minor": 2
}
