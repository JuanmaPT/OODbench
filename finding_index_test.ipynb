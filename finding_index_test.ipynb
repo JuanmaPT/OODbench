{
 "cells": [
  {
   "cell_type": "code",
   "execution_count": 1,
   "metadata": {},
   "outputs": [
    {
     "data": {
      "image/png": "[encoded data removed]",
      "text/plain": [
       "<Figure size 432x288 with 1 Axes>"
      ]
     },
     "metadata": {
      "needs_background": "light"
     },
     "output_type": "display_data"
    }
   ],
   "source": [
    "import numpy as np\n",
    "import matplotlib.pyplot as plt\n",
    "\n",
    "# Create a 50x50 grid filled with zeros (black)\n",
    "grid = np.zeros((50, 50))\n",
    "\n",
    "# Set a couple of white elements by specifying their positions\n",
    "# For example, let's set the element at row 10, column 20 and row 30, column 40 to white.\n",
    "grid[4, 4] = 1  # White\n",
    "grid[44, 4] = 1  # White\n",
    "grid[20, 44] = 1  # White\n",
    "\n",
    "# Display the grid\n",
    "plt.imshow(grid, cmap='gray', interpolation='nearest')\n",
    "plt.show()\n"
   ]
  },
  {
   "cell_type": "code",
   "execution_count": 36,
   "metadata": {},
   "outputs": [
    {
     "data": {
      "text/plain": [
       "('OODatasets/imagenet_val_resized/n02106662/ILSVRC2012_val_00022142_n02106662.JPEG',\n",
       " 'OODatasets/imagenet_val_resized/n03388043/ILSVRC2012_val_00023645_n03388043.JPEG',\n",
       " 'OODatasets/imagenet_val_resized/n03594945/ILSVRC2012_val_00018474_n03594945.JPEG')"
      ]
     },
     "execution_count": 36,
     "metadata": {},
     "output_type": "execute_result"
    }
   ],
   "source": [
    "data['Combi_0'] "
   ]
  },
  {
   "cell_type": "code",
   "execution_count": 31,
   "metadata": {},
   "outputs": [
    {
     "data": {
      "text/plain": [
       "'brassiere, bra, bandeau'"
      ]
     },
     "execution_count": 31,
     "metadata": {},
     "output_type": "execute_result"
    }
   ],
   "source": [
    "class_labels_dict[459]"
   ]
  },
  {
   "cell_type": "code",
   "execution_count": 29,
   "metadata": {},
   "outputs": [
    {
     "data": {
      "image/png": "[encoded data removed]",
      "text/plain": [
       "<Figure size 432x288 with 2 Axes>"
      ]
     },
     "metadata": {
      "needs_background": "light"
     },
     "output_type": "display_data"
    }
   ],
   "source": [
    "import matplotlib.pyplot as plt\n",
    "import pickle\n",
    "\n",
    "import matplotlib.colors as mcolors\n",
    "from matplotlib.colors import ListedColormap, BoundaryNorm\n",
    "\n",
    "path_results = '/net/travail/jpenatrapero/results/results_3_3_imagenet_original.pkl'\n",
    "with open(path_results, 'rb') as file:\n",
    "    data = pickle.load(file)\n",
    "\n",
    "# Read the class labels from the file\n",
    "with open('imagenet1klabels.txt', 'r') as file:\n",
    "    class_labels_dict = eval(file.read())\n",
    "# List the keys in the dictionary\n",
    "keys = data.keys()\n",
    "\n",
    "\n",
    "\n",
    "\n",
    "# Create an image (replace this with your matrix)\n",
    "matrix = data['Matrix_0']  # Your 50x50 matrix of class labels\n",
    "\n",
    "def on_click(event):\n",
    "    if event.inaxes is not None:\n",
    "        x, y = int(event.xdata), int(event.ydata)\n",
    "        value = matrix[y, x]\n",
    "        ax.set_title(f'Value at ({x}, {y}): {value}')\n",
    "# Create a sample 50x50 matrix (you can use your own data)\n",
    "\n",
    "# Define a colormap for different colors\n",
    "cmap = plt.get_cmap('viridis')  # You can choose a different colormap\n",
    "\n",
    "# Create a figure and axis for the plot\n",
    "fig, ax = plt.subplots()\n",
    "\n",
    "# Plot the matrix as an image with colors\n",
    "img = ax.imshow(matrix, cmap=cmap)\n",
    "\n",
    "# Add a colorbar for reference\n",
    "cbar = plt.colorbar(img)\n",
    "\n",
    "\n",
    "\n",
    "\n",
    "# Connect the click event to the function\n",
    "fig.canvas.mpl_connect('button_press_event', on_click)\n",
    "\n",
    "# Display the figure with interactivity\n",
    "plt.show()\n",
    "\n",
    "\n"
   ]
  },
  {
   "cell_type": "code",
   "execution_count": 35,
   "metadata": {},
   "outputs": [
    {
     "data": {
      "text/plain": [
       "dict_keys(['Matrix_0', 'Combi_0', 'Matrix_1', 'Combi_1', 'Matrix_2', 'Combi_2', 'Matrix_3', 'Combi_3', 'Matrix_4', 'Combi_4', 'Matrix_5', 'Combi_5', 'Matrix_6', 'Combi_6', 'Matrix_7', 'Combi_7', 'Matrix_8', 'Combi_8', 'Matrix_9', 'Combi_9', 'Matrix_10', 'Combi_10', 'Matrix_11', 'Combi_11', 'Matrix_12', 'Combi_12', 'Matrix_13', 'Combi_13', 'Matrix_14', 'Combi_14', 'Matrix_15', 'Combi_15', 'Matrix_16', 'Combi_16', 'Matrix_17', 'Combi_17', 'Matrix_18', 'Combi_18', 'Matrix_19', 'Combi_19', 'Matrix_20', 'Combi_20', 'Matrix_21', 'Combi_21', 'Matrix_22', 'Combi_22', 'Matrix_23', 'Combi_23', 'Matrix_24', 'Combi_24', 'Matrix_25', 'Combi_25', 'Matrix_26', 'Combi_26'])"
      ]
     },
     "execution_count": 35,
     "metadata": {},
     "output_type": "execute_result"
    }
   ],
   "source": [
    "keys"
   ]
  }
 ],
 "metadata": {
  "kernelspec": {
   "display_name": "dbviz_env",
   "language": "python",
   "name": "python3"
  },
  "language_info": {
   "codemirror_mode": {
    "name": "ipython",
    "version": 3
   },
   "file_extension": ".py",
   "mimetype": "text/x-python",
   "name": "python",
   "nbconvert_exporter": "python",
   "pygments_lexer": "ipython3",
   "version": "3.8.10"
  }
 },
 "nbformat": 4,
 "nbformat_minor": 2
}
